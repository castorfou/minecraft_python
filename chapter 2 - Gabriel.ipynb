{
 "cells": [
  {
   "cell_type": "markdown",
   "id": "e76bcf5c",
   "metadata": {},
   "source": [
    "# MISSION #1: TELEPORT the PLAYER\n"
   ]
  },
  {
   "cell_type": "code",
   "execution_count": 52,
   "id": "55b5ab98",
   "metadata": {
    "ExecuteTime": {
     "end_time": "2021-05-05T15:38:24.167457Z",
     "start_time": "2021-05-05T15:38:24.161877Z"
    }
   },
   "outputs": [],
   "source": [
    "from mcpi.minecraft import Minecraft\n",
    "mc = Minecraft.create()"
   ]
  },
  {
   "cell_type": "code",
   "execution_count": 2,
   "id": "37343def",
   "metadata": {
    "ExecuteTime": {
     "end_time": "2021-05-04T16:27:47.364173Z",
     "start_time": "2021-05-04T16:27:47.339911Z"
    }
   },
   "outputs": [
    {
     "data": {
      "text/plain": [
       "<mcpi.minecraft.Minecraft at 0x7fbf8e2af8d0>"
      ]
     },
     "execution_count": 2,
     "metadata": {},
     "output_type": "execute_result"
    }
   ],
   "source": [
    "mc"
   ]
  },
  {
   "cell_type": "code",
   "execution_count": 46,
   "id": "7902ea94",
   "metadata": {
    "ExecuteTime": {
     "end_time": "2021-05-04T16:58:00.549923Z",
     "start_time": "2021-05-04T16:58:00.547102Z"
    }
   },
   "outputs": [],
   "source": [
    "x = 4\n",
    "y = 63\n",
    "z = -92\n",
    "\n",
    "x,y,z\n",
    "\n",
    "mc.player.setTilePos(x,y,z)"
   ]
  },
  {
   "cell_type": "code",
   "execution_count": 22,
   "id": "6d6fde46",
   "metadata": {
    "ExecuteTime": {
     "end_time": "2021-05-04T16:51:05.526873Z",
     "start_time": "2021-05-04T16:51:05.517764Z"
    }
   },
   "outputs": [
    {
     "name": "stdout",
     "output_type": "stream",
     "text": [
      "truc de ouf d'eloi 0.4396427121731321 70.0 -125.00918666817628\n"
     ]
    }
   ],
   "source": [
    "print(f'truc de ouf d\\'eloi', x1,y1,z1)"
   ]
  },
  {
   "cell_type": "code",
   "execution_count": null,
   "id": "1c82d9bd",
   "metadata": {
    "ExecuteTime": {
     "end_time": "2021-05-04T16:56:53.177865Z",
     "start_time": "2021-05-04T16:56:22.355948Z"
    }
   },
   "outputs": [],
   "source": [
    "import time\n",
    "\n",
    "for i in range(10):\n",
    "\n",
    "    poof = mc.player.getPos()\n",
    "\n",
    "    x1,y1,z1=poof\n",
    "    x1=x1-10\n",
    "    time.sleep(0.5)\n",
    "    mc.player.setTilePos(x1,y1,z1)\n",
    "    # x1, poof"
   ]
  },
  {
   "cell_type": "code",
   "execution_count": 49,
   "id": "b299cc97",
   "metadata": {
    "ExecuteTime": {
     "end_time": "2021-05-04T17:04:30.174410Z",
     "start_time": "2021-05-04T17:04:30.141527Z"
    }
   },
   "outputs": [
    {
     "data": {
      "text/plain": [
       "Vec3(26.955279446246898,40.0,55.729895479309704)"
      ]
     },
     "execution_count": 49,
     "metadata": {},
     "output_type": "execute_result"
    }
   ],
   "source": [
    "mc.player.getPos()"
   ]
  },
  {
   "cell_type": "code",
   "execution_count": 51,
   "id": "92cda0d3",
   "metadata": {
    "ExecuteTime": {
     "end_time": "2021-05-04T17:06:29.196418Z",
     "start_time": "2021-05-04T17:06:29.189343Z"
    }
   },
   "outputs": [],
   "source": [
    "#truc de ouf de eloi = \n",
    "mc.player.setTilePos(26,40,55)"
   ]
  },
  {
   "cell_type": "markdown",
   "id": "f9c4a067",
   "metadata": {},
   "source": [
    "# mission #2 : Go exactly where you want"
   ]
  },
  {
   "cell_type": "code",
   "execution_count": 62,
   "id": "e91e4238",
   "metadata": {
    "ExecuteTime": {
     "end_time": "2021-05-05T15:52:51.831437Z",
     "start_time": "2021-05-05T15:52:51.816788Z"
    }
   },
   "outputs": [],
   "source": [
    "from mcpi.minecraft import Minecraft\n",
    "mc = Minecraft.create()\n",
    "#Set x, y, z variablesto represent coordinate\n",
    "\n",
    "x = 10.56\n",
    "y = 110.0\n",
    "z = 12.0\n",
    "\n",
    "# Changethe player`s position\n",
    "\n",
    "mc.player.setPos(x,y,z)"
   ]
  },
  {
   "cell_type": "code",
   "execution_count": 63,
   "id": "ca7eefd5",
   "metadata": {
    "ExecuteTime": {
     "end_time": "2021-05-05T15:52:52.159089Z",
     "start_time": "2021-05-05T15:52:52.154355Z"
    }
   },
   "outputs": [],
   "source": [
    "mc.player.setPos(x,y,z)"
   ]
  },
  {
   "cell_type": "code",
   "execution_count": 64,
   "id": "93b581a0",
   "metadata": {
    "ExecuteTime": {
     "end_time": "2021-05-05T15:52:52.527923Z",
     "start_time": "2021-05-05T15:52:52.520183Z"
    }
   },
   "outputs": [],
   "source": [
    "mc.player.setTilePos(x,y,z)"
   ]
  },
  {
   "cell_type": "code",
   "execution_count": 65,
   "id": "888d7770",
   "metadata": {
    "ExecuteTime": {
     "end_time": "2021-05-05T15:54:56.688778Z",
     "start_time": "2021-05-05T15:54:51.675765Z"
    }
   },
   "outputs": [
    {
     "name": "stdout",
     "output_type": "stream",
     "text": [
      "Gabriel est le roi du python\n"
     ]
    }
   ],
   "source": [
    "import time\n",
    "\n",
    "time.sleep(5)\n",
    "print(\"Gabriel est le roi du python\")"
   ]
  },
  {
   "cell_type": "markdown",
   "id": "11d9a150",
   "metadata": {},
   "source": [
    "# mission #3 : Teleportation Tour"
   ]
  },
  {
   "cell_type": "code",
   "execution_count": null,
   "id": "de5d86b0",
   "metadata": {},
   "outputs": [],
   "source": []
  }
 ],
 "metadata": {
  "kernelspec": {
   "display_name": "Python 3",
   "language": "python",
   "name": "python3"
  },
  "language_info": {
   "codemirror_mode": {
    "name": "ipython",
    "version": 3
   },
   "file_extension": ".py",
   "mimetype": "text/x-python",
   "name": "python",
   "nbconvert_exporter": "python",
   "pygments_lexer": "ipython3",
   "version": "3.6.13"
  },
  "toc": {
   "base_numbering": 1,
   "nav_menu": {},
   "number_sections": true,
   "sideBar": true,
   "skip_h1_title": false,
   "title_cell": "Table of Contents",
   "title_sidebar": "Contents",
   "toc_cell": false,
   "toc_position": {},
   "toc_section_display": true,
   "toc_window_display": true
  }
 },
 "nbformat": 4,
 "nbformat_minor": 5
}
