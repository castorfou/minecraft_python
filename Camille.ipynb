{
 "cells": [
  {
   "cell_type": "markdown",
   "id": "fe7e4d70",
   "metadata": {},
   "source": [
    "# chap 1"
   ]
  },
  {
   "cell_type": "markdown",
   "id": "368f75a5",
   "metadata": {},
   "source": [
    "## chap 1.1"
   ]
  },
  {
   "cell_type": "code",
   "execution_count": 2,
   "id": "e0d5519a",
   "metadata": {
    "ExecuteTime": {
     "end_time": "2021-11-14T16:10:24.097850Z",
     "start_time": "2021-11-14T16:10:24.087875Z"
    }
   },
   "outputs": [
    {
     "data": {
      "text/plain": [
       "'wooooo'"
      ]
     },
     "execution_count": 2,
     "metadata": {},
     "output_type": "execute_result"
    }
   ],
   "source": [
    "\"w\" + \"o\" * 5"
   ]
  },
  {
   "cell_type": "code",
   "execution_count": 3,
   "id": "0ab25b9c",
   "metadata": {
    "ExecuteTime": {
     "end_time": "2021-11-14T16:11:28.493120Z",
     "start_time": "2021-11-14T16:11:28.490460Z"
    }
   },
   "outputs": [
    {
     "name": "stdout",
     "output_type": "stream",
     "text": [
      "4\n"
     ]
    }
   ],
   "source": [
    "print(2+2)"
   ]
  },
  {
   "cell_type": "code",
   "execution_count": 4,
   "id": "bd7b8f43",
   "metadata": {
    "ExecuteTime": {
     "end_time": "2021-11-14T16:13:28.134647Z",
     "start_time": "2021-11-14T16:13:28.118392Z"
    }
   },
   "outputs": [
    {
     "name": "stdout",
     "output_type": "stream",
     "text": [
      "4\n",
      "Wooooo\n",
      "PYTHON\n",
      "<3s\n",
      "Minecraft\n"
     ]
    }
   ],
   "source": [
    "print(2*2)\n",
    "print(\"W\" + \"o\" * 5)\n",
    "print(\"PYTHON\")\n",
    "print(\"<3s\")\n",
    "print(\"Minecraft\")"
   ]
  },
  {
   "cell_type": "code",
   "execution_count": 8,
   "id": "e6f65524",
   "metadata": {
    "ExecuteTime": {
     "end_time": "2021-11-14T16:20:03.427906Z",
     "start_time": "2021-11-14T16:20:03.424434Z"
    }
   },
   "outputs": [],
   "source": [
    "from mcpi.minecraft import Minecraft\n",
    "mc = Minecraft.create()"
   ]
  },
  {
   "cell_type": "code",
   "execution_count": 9,
   "id": "8096e997",
   "metadata": {
    "ExecuteTime": {
     "end_time": "2021-11-14T16:21:28.546759Z",
     "start_time": "2021-11-14T16:21:28.534250Z"
    }
   },
   "outputs": [],
   "source": [
    "mc.player.setTilePos(0, 120, 0)"
   ]
  },
  {
   "cell_type": "markdown",
   "id": "166c63e7",
   "metadata": {},
   "source": [
    "# chap2"
   ]
  },
  {
   "cell_type": "markdown",
   "id": "4a113d68",
   "metadata": {},
   "source": [
    "### chap2.1"
   ]
  },
  {
   "cell_type": "markdown",
   "id": "20d62853",
   "metadata": {},
   "source": [
    "f1=barre inventaire\n",
    "f3=position etc"
   ]
  },
  {
   "cell_type": "code",
   "execution_count": 10,
   "id": "2ae6ef02",
   "metadata": {
    "ExecuteTime": {
     "end_time": "2021-11-14T16:34:59.911653Z",
     "start_time": "2021-11-14T16:34:59.904778Z"
    }
   },
   "outputs": [],
   "source": [
    "from mcpi.minecraft import Minecraft\n",
    "mc = Minecraft.create()\n",
    "x=10\n",
    "y=110\n",
    "z=12"
   ]
  },
  {
   "cell_type": "code",
   "execution_count": 11,
   "id": "87d6b4d8",
   "metadata": {
    "ExecuteTime": {
     "end_time": "2021-11-14T16:35:33.734247Z",
     "start_time": "2021-11-14T16:35:33.724878Z"
    }
   },
   "outputs": [],
   "source": [
    "mc.player.setTilePos(x, y, z)"
   ]
  },
  {
   "cell_type": "markdown",
   "id": "0b77589a",
   "metadata": {},
   "source": [
    "Pour se teleporter\n",
    "definir x, y et z\n",
    "entrer mc.player.setTilePos(x, y, z)"
   ]
  },
  {
   "cell_type": "code",
   "execution_count": 14,
   "id": "ef5b8f29",
   "metadata": {
    "ExecuteTime": {
     "end_time": "2021-11-14T16:39:44.645981Z",
     "start_time": "2021-11-14T16:39:44.643218Z"
    }
   },
   "outputs": [],
   "source": [
    "from mcpi.minecraft import Minecraft\n",
    "mc = Minecraft.create()\n",
    "x=20\n",
    "y=56\n",
    "z=63"
   ]
  },
  {
   "cell_type": "code",
   "execution_count": 15,
   "id": "541a3316",
   "metadata": {
    "ExecuteTime": {
     "end_time": "2021-11-14T16:39:47.650911Z",
     "start_time": "2021-11-14T16:39:47.648804Z"
    }
   },
   "outputs": [],
   "source": [
    "mc.player.setTilePos(x, y, z)"
   ]
  },
  {
   "cell_type": "markdown",
   "id": "59e938eb",
   "metadata": {},
   "source": [
    "### chap2.2"
   ]
  },
  {
   "cell_type": "code",
   "execution_count": 16,
   "id": "87930017",
   "metadata": {
    "ExecuteTime": {
     "end_time": "2021-11-14T16:42:04.427718Z",
     "start_time": "2021-11-14T16:42:04.422309Z"
    }
   },
   "outputs": [],
   "source": [
    "from mcpi.minecraft import Minecraft\n",
    "mc = Minecraft.create()\n",
    "x=56\n",
    "y=96\n",
    "z=135"
   ]
  },
  {
   "cell_type": "code",
   "execution_count": 17,
   "id": "48b7900c",
   "metadata": {
    "ExecuteTime": {
     "end_time": "2021-11-14T16:42:46.627480Z",
     "start_time": "2021-11-14T16:42:46.625016Z"
    }
   },
   "outputs": [],
   "source": [
    "mc.player.setPos(x, y, z)"
   ]
  },
  {
   "cell_type": "markdown",
   "id": "a0c8e49d",
   "metadata": {},
   "source": [
    "difference avec 2.1= ici, on se teleporte au dessus du bloc  (en gros, on ne tombe pas)"
   ]
  },
  {
   "cell_type": "markdown",
   "id": "7a2bb9c1",
   "metadata": {},
   "source": [
    "### chap 2.3"
   ]
  },
  {
   "cell_type": "code",
   "execution_count": 18,
   "id": "a4d0fcf4",
   "metadata": {
    "ExecuteTime": {
     "end_time": "2021-11-14T16:48:28.959014Z",
     "start_time": "2021-11-14T16:48:18.943217Z"
    }
   },
   "outputs": [],
   "source": [
    "from mcpi.minecraft import Minecraft\n",
    "mc = Minecraft.create()\n",
    "import time\n",
    "\n",
    "x=1\n",
    "y=5\n",
    "z=32\n",
    "\n",
    "mc.player.setTilePos(x, y, z)\n",
    "\n",
    "time.sleep(10)\n",
    "\n",
    "x=5\n",
    "y=22\n",
    "z=11\n",
    "\n",
    "mc.player.setTilePos(x, y, z)"
   ]
  },
  {
   "cell_type": "markdown",
   "id": "540a5241",
   "metadata": {},
   "source": [
    "time.sleep() --> attendre pour une donnée de temps avant de faire action suivante"
   ]
  },
  {
   "cell_type": "markdown",
   "id": "88c1f2da",
   "metadata": {},
   "source": [
    "### chap2.4"
   ]
  },
  {
   "cell_type": "code",
   "execution_count": 19,
   "id": "d2c87b42",
   "metadata": {
    "ExecuteTime": {
     "end_time": "2021-11-14T16:52:45.205599Z",
     "start_time": "2021-11-14T16:52:45.201611Z"
    }
   },
   "outputs": [],
   "source": [
    "from mcpi.minecraft import Minecraft\n",
    "mc = Minecraft.create()\n",
    "x=10\n",
    "y=11\n",
    "z=12\n",
    "mc.player.setTilePos(x, y, z)"
   ]
  },
  {
   "cell_type": "code",
   "execution_count": 20,
   "id": "29192e48",
   "metadata": {
    "ExecuteTime": {
     "end_time": "2021-11-14T16:55:00.488794Z",
     "start_time": "2021-11-14T16:55:00.478392Z"
    }
   },
   "outputs": [],
   "source": [
    "from mcpi.minecraft import Minecraft\n",
    "mc = Minecraft.create()\n",
    "x=10\n",
    "y=110\n",
    "z=-12\n",
    "mc.player.setTilePos(x, y, z)"
   ]
  }
 ],
 "metadata": {
  "kernelspec": {
   "display_name": "Python 3",
   "language": "python",
   "name": "python3"
  },
  "language_info": {
   "codemirror_mode": {
    "name": "ipython",
    "version": 3
   },
   "file_extension": ".py",
   "mimetype": "text/x-python",
   "name": "python",
   "nbconvert_exporter": "python",
   "pygments_lexer": "ipython3",
   "version": "3.6.13"
  },
  "toc": {
   "base_numbering": 1,
   "nav_menu": {},
   "number_sections": true,
   "sideBar": true,
   "skip_h1_title": false,
   "title_cell": "Table of Contents",
   "title_sidebar": "Contents",
   "toc_cell": false,
   "toc_position": {},
   "toc_section_display": true,
   "toc_window_display": true
  }
 },
 "nbformat": 4,
 "nbformat_minor": 5
}
