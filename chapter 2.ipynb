{
 "cells": [
  {
   "cell_type": "code",
   "execution_count": 1,
   "id": "7f68e95d",
   "metadata": {
    "ExecuteTime": {
     "end_time": "2021-04-17T18:09:51.824243Z",
     "start_time": "2021-04-17T18:09:51.821516Z"
    }
   },
   "outputs": [],
   "source": [
    "pickaxes =14"
   ]
  },
  {
   "cell_type": "code",
   "execution_count": 2,
   "id": "5ca377ff",
   "metadata": {
    "ExecuteTime": {
     "end_time": "2021-04-17T18:09:51.842858Z",
     "start_time": "2021-04-17T18:09:51.826307Z"
    }
   },
   "outputs": [
    {
     "data": {
      "text/plain": [
       "14"
      ]
     },
     "execution_count": 2,
     "metadata": {},
     "output_type": "execute_result"
    }
   ],
   "source": [
    "pickaxes"
   ]
  },
  {
   "cell_type": "code",
   "execution_count": 3,
   "id": "f4fee73c",
   "metadata": {
    "ExecuteTime": {
     "end_time": "2021-04-17T18:09:51.848084Z",
     "start_time": "2021-04-17T18:09:51.844483Z"
    }
   },
   "outputs": [],
   "source": [
    "bread=142"
   ]
  },
  {
   "cell_type": "code",
   "execution_count": 4,
   "id": "e0e4494c",
   "metadata": {
    "ExecuteTime": {
     "end_time": "2021-04-17T18:09:51.853844Z",
     "start_time": "2021-04-17T18:09:51.849235Z"
    }
   },
   "outputs": [
    {
     "data": {
      "text/plain": [
       "142"
      ]
     },
     "execution_count": 4,
     "metadata": {},
     "output_type": "execute_result"
    }
   ],
   "source": [
    "bread"
   ]
  },
  {
   "cell_type": "code",
   "execution_count": 5,
   "id": "b1cd4e59",
   "metadata": {
    "ExecuteTime": {
     "end_time": "2021-04-17T18:09:51.860079Z",
     "start_time": "2021-04-17T18:09:51.854909Z"
    }
   },
   "outputs": [
    {
     "data": {
      "text/plain": [
       "14"
      ]
     },
     "execution_count": 5,
     "metadata": {},
     "output_type": "execute_result"
    }
   ],
   "source": [
    "pickaxes"
   ]
  },
  {
   "cell_type": "code",
   "execution_count": 6,
   "id": "a21a202c",
   "metadata": {
    "ExecuteTime": {
     "end_time": "2021-04-17T18:09:51.865089Z",
     "start_time": "2021-04-17T18:09:51.862504Z"
    }
   },
   "outputs": [],
   "source": [
    "iron=30"
   ]
  },
  {
   "cell_type": "code",
   "execution_count": 7,
   "id": "00e840e9",
   "metadata": {
    "ExecuteTime": {
     "end_time": "2021-04-17T18:09:51.870175Z",
     "start_time": "2021-04-17T18:09:51.866803Z"
    }
   },
   "outputs": [],
   "source": [
    "cobblestone=25"
   ]
  },
  {
   "cell_type": "code",
   "execution_count": 8,
   "id": "a9148259",
   "metadata": {
    "ExecuteTime": {
     "end_time": "2021-04-17T18:09:51.875778Z",
     "start_time": "2021-04-17T18:09:51.871122Z"
    }
   },
   "outputs": [],
   "source": [
    "pickaxes=12"
   ]
  },
  {
   "cell_type": "code",
   "execution_count": 9,
   "id": "08660141",
   "metadata": {
    "ExecuteTime": {
     "end_time": "2021-04-17T18:09:51.881508Z",
     "start_time": "2021-04-17T18:09:51.876629Z"
    }
   },
   "outputs": [],
   "source": [
    "cat=5"
   ]
  },
  {
   "cell_type": "code",
   "execution_count": 10,
   "id": "a6eb01dd",
   "metadata": {
    "ExecuteTime": {
     "end_time": "2021-04-17T18:09:51.890495Z",
     "start_time": "2021-04-17T18:09:51.882669Z"
    }
   },
   "outputs": [
    {
     "data": {
      "text/plain": [
       "5"
      ]
     },
     "execution_count": 10,
     "metadata": {},
     "output_type": "execute_result"
    }
   ],
   "source": [
    "cat"
   ]
  },
  {
   "cell_type": "code",
   "execution_count": 123,
   "id": "17c80df3",
   "metadata": {
    "ExecuteTime": {
     "end_time": "2021-04-18T08:48:01.698592Z",
     "start_time": "2021-04-18T08:48:01.692511Z"
    }
   },
   "outputs": [],
   "source": [
    "from mcpi.minecraft import Minecraft"
   ]
  },
  {
   "cell_type": "code",
   "execution_count": 124,
   "id": "ebc2a3a4",
   "metadata": {
    "ExecuteTime": {
     "end_time": "2021-04-18T08:48:02.025483Z",
     "start_time": "2021-04-18T08:48:02.020957Z"
    }
   },
   "outputs": [],
   "source": [
    "mc=Minecraft.create()"
   ]
  },
  {
   "cell_type": "code",
   "execution_count": 110,
   "id": "97cad0cd",
   "metadata": {
    "ExecuteTime": {
     "end_time": "2021-04-18T08:39:21.109540Z",
     "start_time": "2021-04-18T08:39:21.101529Z"
    }
   },
   "outputs": [],
   "source": [
    "mc.player.setTilePos(0,0,0)"
   ]
  },
  {
   "cell_type": "code",
   "execution_count": 112,
   "id": "dd3ef8e9",
   "metadata": {
    "ExecuteTime": {
     "end_time": "2021-04-18T08:40:56.405702Z",
     "start_time": "2021-04-18T08:40:56.397335Z"
    }
   },
   "outputs": [],
   "source": [
    "mc.setBlock(0,0,1,56)"
   ]
  },
  {
   "cell_type": "code",
   "execution_count": 113,
   "id": "3cc32963",
   "metadata": {
    "ExecuteTime": {
     "end_time": "2021-04-18T08:41:53.207987Z",
     "start_time": "2021-04-18T08:41:53.165306Z"
    }
   },
   "outputs": [],
   "source": [
    "i=0\n",
    "while (i<1000):\n",
    "    i+=1\n",
    "    mc.setBlock(0,i,0,56)"
   ]
  },
  {
   "cell_type": "code",
   "execution_count": 114,
   "id": "9fd25066",
   "metadata": {
    "ExecuteTime": {
     "end_time": "2021-04-18T08:43:38.056928Z",
     "start_time": "2021-04-18T08:43:38.048583Z"
    }
   },
   "outputs": [],
   "source": [
    "mc.setBlocks(0,0,0,10,10,10,56)"
   ]
  },
  {
   "cell_type": "code",
   "execution_count": 116,
   "id": "f506f241",
   "metadata": {
    "ExecuteTime": {
     "end_time": "2021-04-18T08:44:11.443206Z",
     "start_time": "2021-04-18T08:44:11.440747Z"
    }
   },
   "outputs": [],
   "source": [
    "mc.setBlocks(0,0,0,1000,10000,10,56)"
   ]
  },
  {
   "cell_type": "code",
   "execution_count": 65,
   "id": "04a62958",
   "metadata": {
    "ExecuteTime": {
     "end_time": "2021-04-18T08:06:22.552125Z",
     "start_time": "2021-04-18T08:06:22.532618Z"
    }
   },
   "outputs": [
    {
     "data": {
      "text/plain": [
       "Vec3(2110,10,37)"
      ]
     },
     "execution_count": 65,
     "metadata": {},
     "output_type": "execute_result"
    }
   ],
   "source": [
    "mc.player.getTilePos()"
   ]
  },
  {
   "cell_type": "code",
   "execution_count": 132,
   "id": "049a6b73",
   "metadata": {
    "ExecuteTime": {
     "end_time": "2021-04-18T09:03:08.444081Z",
     "start_time": "2021-04-18T09:03:08.436839Z"
    }
   },
   "outputs": [],
   "source": [
    "mc.player.setTilePos(2110,21,37)"
   ]
  },
  {
   "cell_type": "code",
   "execution_count": 145,
   "id": "408d6aba",
   "metadata": {
    "ExecuteTime": {
     "end_time": "2021-04-18T09:11:54.772256Z",
     "start_time": "2021-04-18T09:11:54.750893Z"
    }
   },
   "outputs": [],
   "source": [
    "#1er mur\n",
    "mc.setBlocks(2110,10,37,2120,20,37,56)\n",
    "#sol\n",
    "mc.setBlocks(2110,10,37,2120,10,47,89)\n",
    "# #2eme mur\n",
    "mc.setBlocks(2110,10,37,2110,20,47,56)\n",
    "mc.setBlocks(2120,20,47,2110,10,47,56)\n",
    "mc.setBlocks(2120,20,47,2120,10,37,56)\n",
    "\n",
    "mc.setBlocks(2120,20,47,2110,20,37,89)\n",
    "mc.setBlocks(2115,11,37,2116,13,37,64)\n"
   ]
  },
  {
   "cell_type": "code",
   "execution_count": 137,
   "id": "46c2c77c",
   "metadata": {
    "ExecuteTime": {
     "end_time": "2021-04-18T09:04:56.244347Z",
     "start_time": "2021-04-18T09:04:56.236533Z"
    }
   },
   "outputs": [],
   "source": [
    "mc.setBlocks(2110,10,37,2130,30,57,0)"
   ]
  },
  {
   "cell_type": "code",
   "execution_count": 149,
   "id": "e7964486",
   "metadata": {
    "ExecuteTime": {
     "end_time": "2021-04-18T09:16:56.356397Z",
     "start_time": "2021-04-18T09:16:56.348909Z"
    }
   },
   "outputs": [],
   "source": [
    "mc.setBlock(2110,10,37,41)\n"
   ]
  },
  {
   "cell_type": "code",
   "execution_count": 209,
   "id": "0a1f4668",
   "metadata": {
    "ExecuteTime": {
     "end_time": "2021-04-18T10:04:17.325536Z",
     "start_time": "2021-04-18T10:04:17.315647Z"
    }
   },
   "outputs": [],
   "source": [
    "def effacer_maison():\n",
    "    x,y,z =mc.player.getTilePos()\n",
    "    mc.setBlocks(x-100,y,z-100,x+100,y+100,z+100,0)\n"
   ]
  },
  {
   "cell_type": "code",
   "execution_count": 221,
   "id": "bc309dbd",
   "metadata": {
    "ExecuteTime": {
     "end_time": "2021-04-18T10:13:15.310571Z",
     "start_time": "2021-04-18T10:13:15.293384Z"
    }
   },
   "outputs": [],
   "source": [
    "def creer_maison(largeur=10,hauteur=10,longueur=10):\n",
    "    x,y,z =mc.player.getTilePos()\n",
    "\n",
    "    x=x+2\n",
    "    z=z+2\n",
    "    largeur-=1\n",
    "    hauteur-=1\n",
    "    longueur-=1\n",
    "\n",
    "    mc.setBlocks(x,y,z,x+largeur,y+hauteur,z,56)\n",
    "    mc.setBlocks(x,y,z,x,y+hauteur,z+longueur,56)\n",
    "    mc.setBlocks(x+largeur,y+hauteur,z+longueur,x+largeur,y,z,56)\n",
    "    mc.setBlocks(x+largeur,y+hauteur,z+longueur,x,y,z+longueur,56)\n",
    "    #sol\n",
    "    mc.setBlocks(x,y,z,x+largeur,y,z+longueur,89)\n",
    "    #plafond\n",
    "    mc.setBlocks(x+largeur,y+hauteur,z+longueur,x,y+hauteur,z,89)\n",
    "    mc.setBlocks(x+5,y+1,z,x+6,y+3,z,0)\n",
    "    "
   ]
  },
  {
   "cell_type": "code",
   "execution_count": 222,
   "id": "583b372d",
   "metadata": {
    "ExecuteTime": {
     "end_time": "2021-04-18T10:13:16.957800Z",
     "start_time": "2021-04-18T10:13:16.484727Z"
    }
   },
   "outputs": [],
   "source": [
    "effacer_maison()\n",
    "creer_maison(10,5,5)"
   ]
  },
  {
   "cell_type": "code",
   "execution_count": 219,
   "id": "8844e7e3",
   "metadata": {
    "ExecuteTime": {
     "end_time": "2021-04-18T10:11:51.651773Z",
     "start_time": "2021-04-18T10:11:51.596551Z"
    }
   },
   "outputs": [],
   "source": [
    "effacer_maison()"
   ]
  },
  {
   "cell_type": "code",
   "execution_count": null,
   "id": "b0416d5d",
   "metadata": {},
   "outputs": [],
   "source": []
  }
 ],
 "metadata": {
  "kernelspec": {
   "display_name": "Python 3",
   "language": "python",
   "name": "python3"
  },
  "language_info": {
   "codemirror_mode": {
    "name": "ipython",
    "version": 3
   },
   "file_extension": ".py",
   "mimetype": "text/x-python",
   "name": "python",
   "nbconvert_exporter": "python",
   "pygments_lexer": "ipython3",
   "version": "3.6.13"
  },
  "toc": {
   "base_numbering": 1,
   "nav_menu": {},
   "number_sections": true,
   "sideBar": true,
   "skip_h1_title": false,
   "title_cell": "Table of Contents",
   "title_sidebar": "Contents",
   "toc_cell": false,
   "toc_position": {},
   "toc_section_display": true,
   "toc_window_display": true
  }
 },
 "nbformat": 4,
 "nbformat_minor": 5
}
